{
  "nbformat": 4,
  "nbformat_minor": 0,
  "metadata": {
    "colab": {
      "private_outputs": true,
      "provenance": []
    },
    "kernelspec": {
      "name": "python3",
      "display_name": "Python 3"
    },
    "language_info": {
      "name": "python"
    },
    "accelerator": "GPU",
    "gpuClass": "standard"
  },
  "cells": [
    {
      "cell_type": "markdown",
      "source": [
        "### Реализация YOLOv5 в исследовательских целях, на базе открытого репозитория https://github.com/ultralytics/yolov5\n",
        "\n",
        "> Подробнее о [лицензии](https://ultralytics.com/license)"
      ],
      "metadata": {
        "id": "l0vJZWT4am6u"
      }
    },
    {
      "cell_type": "code",
      "execution_count": null,
      "metadata": {
        "id": "LA7gA-QI0Jax"
      },
      "outputs": [],
      "source": [
        "!pip install imageio-ffmpeg\n",
        "!git clone https://github.com/ultralytics/yolov5  # clone\n",
        "%cd yolov5\n",
        "%pip install -qr requirements.txt  # install\n",
        "\n",
        "%mkdir /content/input_imgs\n",
        "\n",
        "import torch\n",
        "import os,glob\n",
        "import ipywidgets as widgets\n",
        "from ipywidgets import interact\n",
        "from IPython.display import Image\n",
        "import matplotlib.pyplot as plt\n",
        "import numpy as np\n",
        "import imageio\n",
        "import cv2\n"
      ]
    },
    {
      "cell_type": "code",
      "source": [
        "url='https://daily-motor.ru/wp-content/uploads/2022/10/b0aad3e80bc94abaaa403067f33a7d40.jpg'\n",
        "img=imageio.imread(url)\n",
        "imageio.imwrite('/content/input_imgs/car.png',img)"
      ],
      "metadata": {
        "id": "UoMcW7WIWMSZ"
      },
      "execution_count": null,
      "outputs": []
    },
    {
      "cell_type": "markdown",
      "source": [
        "**Inference imgs**"
      ],
      "metadata": {
        "id": "bBSMxlft1Kkv"
      }
    },
    {
      "cell_type": "code",
      "source": [
        "!python detect.py --weights yolov5s.pt --img 640 --conf 0.3 --source /content/input_imgs"
      ],
      "metadata": {
        "id": "PyKBw4KR0bPo"
      },
      "execution_count": null,
      "outputs": []
    },
    {
      "cell_type": "markdown",
      "source": [
        "Результаты по дефолту сохраняются в *runs/detect/exp{prefix_n}*, воспользуемся интерактом для удобства просмотра\n"
      ],
      "metadata": {
        "id": "D1lNULf1Pwrk"
      }
    },
    {
      "cell_type": "code",
      "source": [
        "@interact\n",
        "def show_images(file=os.listdir('runs/detect/')):\n",
        "    plt.figure(figsize=(15,8))\n",
        "  \n",
        "    img_path='runs/detect/'+file + '/'\n",
        "    try:\n",
        "      print(os.listdir('runs/detect/'+file)[0])\n",
        "      plt.imshow(cv2.cvtColor(cv2.imread(img_path+os.listdir('runs/detect/'+file)[0]),cv2.COLOR_RGB2BGR))\n",
        "    except IndexError as e:\n",
        "      print('no image')\n",
        "    except Exception as e:\n",
        "      print(e)"
      ],
      "metadata": {
        "id": "RplW56Z8N62X"
      },
      "execution_count": null,
      "outputs": []
    },
    {
      "cell_type": "markdown",
      "source": [
        "**Inference video on url**  \n",
        "Lets see how fast & furious YOLOv5 🏎"
      ],
      "metadata": {
        "id": "-1nNyrz4un6C"
      }
    },
    {
      "cell_type": "code",
      "source": [
        "!python detect.py --weights yolov5s.pt --img 640 --conf 0.3 --source https://www.youtube.com/watch?v=KOb8FheEX-I"
      ],
      "metadata": {
        "id": "Kh69s35D2EGC"
      },
      "execution_count": null,
      "outputs": []
    },
    {
      "cell_type": "markdown",
      "source": [
        "**Let's see the result**"
      ],
      "metadata": {
        "id": "cMxYIhMg7mXB"
      }
    },
    {
      "cell_type": "code",
      "source": [
        "import glob\n",
        "list_vids=[]\n",
        "for address, dirs, files in os.walk('runs/detect/'):\n",
        "   if files:\n",
        "      #for name in files:\n",
        "      list_vids.extend([x for x in glob.glob(f\"{address}/*.mp4\")])\n",
        "list_vids"
      ],
      "metadata": {
        "id": "-IPCtyfR765B"
      },
      "execution_count": null,
      "outputs": []
    },
    {
      "cell_type": "markdown",
      "source": [
        "**Convert mp4 to frames**"
      ],
      "metadata": {
        "id": "nrlxk-x4Azpk"
      }
    },
    {
      "cell_type": "code",
      "source": [
        "%mkdir '/content/inf_video/'"
      ],
      "metadata": {
        "id": "Xa-nE95jCgkj"
      },
      "execution_count": null,
      "outputs": []
    },
    {
      "cell_type": "code",
      "source": [
        "video_url = list_vids[0]\n",
        "vidcap = cv2.VideoCapture(video_url)\n",
        "success,image = vidcap.read()\n",
        "fps = vidcap.get(cv2.CAP_PROP_FPS)\n",
        "count = 0\n",
        "for i in range(int(vidcap.get(cv2.CAP_PROP_FRAME_COUNT))):\n",
        "  success,image = vidcap.read()\n",
        "  if i%int(vidcap.get(cv2.CAP_PROP_FRAME_COUNT)//fps)==0:\n",
        "    cv2.imwrite(f\"/content/inf_video/{i}.jpg\", image)      \n",
        "  \n",
        "  \n"
      ],
      "metadata": {
        "id": "ysIvoiM1NP3L"
      },
      "execution_count": null,
      "outputs": []
    },
    {
      "cell_type": "code",
      "source": [
        "sorted_shots=sorted(os.listdir('/content/inf_video/'),key=lambda x: int(os.path.splitext(x)[0]))"
      ],
      "metadata": {
        "id": "uUc8MKF3MuAp"
      },
      "execution_count": null,
      "outputs": []
    },
    {
      "cell_type": "code",
      "source": [
        "@interact(frame=(0, len(sorted_shots)-1))\n",
        "def show_frame(frame=0):\n",
        "  f = plt.figure(figsize=(18,8))\n",
        "  plt.imshow(cv2.cvtColor(cv2.imread('/content/inf_video/'+sorted_shots[frame]),cv2.COLOR_RGB2BGR))"
      ],
      "metadata": {
        "id": "E0ydfq0ZIpeC"
      },
      "execution_count": null,
      "outputs": []
    },
    {
      "cell_type": "code",
      "source": [],
      "metadata": {
        "id": "UTxFaOycPQ0O"
      },
      "execution_count": null,
      "outputs": []
    }
  ]
}